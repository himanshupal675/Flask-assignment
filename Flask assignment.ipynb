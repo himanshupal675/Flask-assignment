{
 "cells": [
  {
   "cell_type": "code",
   "execution_count": null,
   "id": "4a8ef3d5-7389-4177-ac2c-4f47c2092db8",
   "metadata": {},
   "outputs": [],
   "source": [
    "#Answer 1\n",
    "\"\"\"Flask is a microframework offering all the basic features of a web application. It's easy to get \n",
    "started on and expand with Python's wealth of libraries and extensions. On its own, the framework's \n",
    "capabilities are limited and extra functionalities need to be added with supplemental technologies.\n",
    "\n",
    "\n",
    "Advantages of Flask ==>\n",
    "\n",
    "Scalable.\n",
    "Flexible. \n",
    "Easy to negotiate. \n",
    "Lightweight. \n",
    "Documentation. \n",
    "Not a lot of tools. \n",
    "Difficult to get familiar with a larger Flask app. \n",
    "Maintenance costs.\"\"\"\n"
   ]
  },
  {
   "cell_type": "code",
   "execution_count": 4,
   "id": "5025ec2d-22b4-48b8-bb3f-4f55f927e3b1",
   "metadata": {},
   "outputs": [
    {
     "name": "stdout",
     "output_type": "stream",
     "text": [
      "Collecting flask\n",
      "  Downloading Flask-2.2.3-py3-none-any.whl (101 kB)\n",
      "\u001b[2K     \u001b[90m━━━━━━━━━━━━━━━━━━━━━━━━━━━━━━━━━━━━━━━\u001b[0m \u001b[32m101.8/101.8 kB\u001b[0m \u001b[31m4.5 MB/s\u001b[0m eta \u001b[36m0:00:00\u001b[0m\n",
      "\u001b[?25hRequirement already satisfied: Jinja2>=3.0 in /opt/conda/lib/python3.10/site-packages (from flask) (3.1.2)\n",
      "Requirement already satisfied: click>=8.0 in /opt/conda/lib/python3.10/site-packages (from flask) (8.1.3)\n",
      "Collecting Werkzeug>=2.2.2\n",
      "  Downloading Werkzeug-2.2.3-py3-none-any.whl (233 kB)\n",
      "\u001b[2K     \u001b[90m━━━━━━━━━━━━━━━━━━━━━━━━━━━━━━━━━━━━━━\u001b[0m \u001b[32m233.6/233.6 kB\u001b[0m \u001b[31m17.9 MB/s\u001b[0m eta \u001b[36m0:00:00\u001b[0m\n",
      "\u001b[?25hCollecting itsdangerous>=2.0\n",
      "  Downloading itsdangerous-2.1.2-py3-none-any.whl (15 kB)\n",
      "Requirement already satisfied: MarkupSafe>=2.0 in /opt/conda/lib/python3.10/site-packages (from Jinja2>=3.0->flask) (2.1.1)\n",
      "Installing collected packages: Werkzeug, itsdangerous, flask\n",
      "Successfully installed Werkzeug-2.2.3 flask-2.2.3 itsdangerous-2.1.2\n",
      "Note: you may need to restart the kernel to use updated packages.\n"
     ]
    }
   ],
   "source": [
    "pip install flask"
   ]
  },
  {
   "cell_type": "code",
   "execution_count": null,
   "id": "bf052594-6490-4d00-ae73-85f692181922",
   "metadata": {},
   "outputs": [],
   "source": [
    "#Answer 2\n",
    "from flask import Flask\n",
    "app = Flask(__name__)\n",
    "\n",
    "@app.route(\"/test\")\n",
    "def test():\n",
    "    return \"Hello World!!\"\n",
    "if __name__=='__main__':\n",
    "    app.run(host='0.0.0.0')\n",
    "## Idont Know how to add screenshot in here "
   ]
  },
  {
   "cell_type": "raw",
   "id": "55dfc426-aefb-41ed-963a-ff8a74261ecf",
   "metadata": {},
   "source": [
    "#Answer 3\n",
    "\"\"\"App Routing means mapping the URLs to a specific function that will handle the logic for that URL. Modern web frameworks use more\n",
    "meaningful URLs to help users remember the URLs and make navigation simpler. Example: In our application, the URL (“/”) is associated \n",
    "with the root URL.\"\"\""
   ]
  },
  {
   "cell_type": "code",
   "execution_count": null,
   "id": "e8398238-d1c3-4810-88bf-1a7d9ed75ed2",
   "metadata": {},
   "outputs": [
    {
     "name": "stdout",
     "output_type": "stream",
     "text": [
      " * Serving Flask app '__main__'\n",
      " * Debug mode: off\n"
     ]
    },
    {
     "name": "stderr",
     "output_type": "stream",
     "text": [
      "WARNING: This is a development server. Do not use it in a production deployment. Use a production WSGI server instead.\n",
      " * Running on all addresses (0.0.0.0)\n",
      " * Running on http://127.0.0.1:5000\n",
      " * Running on http://172.18.0.3:5000\n",
      "Press CTRL+C to quit\n"
     ]
    }
   ],
   "source": [
    "#Answer 3\n",
    "from flask import Flask\n",
    "app=Flask(__name__)\n",
    "@app.route(\"/\")\n",
    "def details():\n",
    "    return\"\"\" Company Name: ABC Corporation\n",
    "              Location: India\n",
    "              Contact Detail: 999-999-9999\"\"\"\n",
    "@app.route(\"/welcome\")\n",
    "def welcome():\n",
    "    return \"Welcome to ABC Corporation\"\n",
    "\n",
    "if __name__==\"__main__\":\n",
    "    app.run(host=\"0.0.0.0\")"
   ]
  },
  {
   "cell_type": "code",
   "execution_count": null,
   "id": "f456d953-eab0-4ae4-b6bd-a0bde62e5bff",
   "metadata": {},
   "outputs": [],
   "source": [
    "#Answer 5\n",
    "\"\"\"The url_for() function is very useful for dynamically building a URL for a specific function. The function accepts the name of a function \n",
    "as first argument, and one or more keyword arguments, each corresponding to the variable part of URL.\"\"\""
   ]
  }
 ],
 "metadata": {
  "kernelspec": {
   "display_name": "Python 3 (ipykernel)",
   "language": "python",
   "name": "python3"
  },
  "language_info": {
   "codemirror_mode": {
    "name": "ipython",
    "version": 3
   },
   "file_extension": ".py",
   "mimetype": "text/x-python",
   "name": "python",
   "nbconvert_exporter": "python",
   "pygments_lexer": "ipython3",
   "version": "3.10.8"
  }
 },
 "nbformat": 4,
 "nbformat_minor": 5
}
